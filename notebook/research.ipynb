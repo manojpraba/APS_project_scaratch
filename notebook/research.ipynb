{
 "cells": [
  {
   "cell_type": "code",
   "execution_count": 3,
   "metadata": {},
   "outputs": [
    {
     "data": {
      "text/plain": [
       "'c:\\\\Ml projects\\\\aps-fault-detection-3ed0c23237711fcb380d479a6b734af781624404\\\\aps-fault-detection-3ed0c23237711fcb380d479a6b734af781624404\\\\notebook\\\\artifact\\\\11032023__174101'"
      ]
     },
     "execution_count": 3,
     "metadata": {},
     "output_type": "execute_result"
    }
   ],
   "source": [
    "import os\n",
    "from datetime import datetime\n",
    "os.path.join(os.getcwd(),\"artifact\",f\"{datetime.now().strftime('%m%d%Y__%H%M%S')}\")"
   ]
  },
  {
   "cell_type": "code",
   "execution_count": 9,
   "metadata": {},
   "outputs": [
    {
     "ename": "IndentationError",
     "evalue": "unexpected indent (2112939988.py, line 2)",
     "output_type": "error",
     "traceback": [
      "\u001b[1;36m  Cell \u001b[1;32mIn[9], line 2\u001b[1;36m\u001b[0m\n\u001b[1;33m    df=pd.read_csv(r'./aps_failure_training_set1.csv')\u001b[0m\n\u001b[1;37m    ^\u001b[0m\n\u001b[1;31mIndentationError\u001b[0m\u001b[1;31m:\u001b[0m unexpected indent\n"
     ]
    }
   ],
   "source": [
    "import pandas as pd\n",
    " df=pd.read_csv(r'aps_failure_training_set1.csv')"
   ]
  },
  {
   "cell_type": "code",
   "execution_count": 4,
   "metadata": {},
   "outputs": [
    {
     "data": {
      "text/plain": [
       "'c:\\\\Ml projects\\\\aps-fault-detection-3ed0c23237711fcb380d479a6b734af781624404\\\\aps-fault-detection-3ed0c23237711fcb380d479a6b734af781624404\\\\notebook'"
      ]
     },
     "execution_count": 4,
     "metadata": {},
     "output_type": "execute_result"
    }
   ],
   "source": [
    "os.getcwd()"
   ]
  },
  {
   "cell_type": "code",
   "execution_count": null,
   "metadata": {},
   "outputs": [
    {
     "ename": "",
     "evalue": "",
     "output_type": "error",
     "traceback": [
      "\u001b[1;31mRunning cells with 'c:\\Ml projects\\aps-fault-detection-3ed0c23237711fcb380d479a6b734af781624404\\aps-fault-detection-3ed0c23237711fcb380d479a6b734af781624404\\env\\python.exe' requires the ipykernel package.\n",
      "\u001b[1;31mRun the following command to install 'ipykernel' into the Python environment. \n",
      "\u001b[1;31mCommand: 'conda install -p c:\\Ml projects\\aps-fault-detection-3ed0c23237711fcb380d479a6b734af781624404\\aps-fault-detection-3ed0c23237711fcb380d479a6b734af781624404\\env ipykernel --update-deps --force-reinstall'"
     ]
    }
   ],
   "source": [
    "pip install ipykernel\n"
   ]
  }
 ],
 "metadata": {
  "kernelspec": {
   "display_name": "Python 3",
   "language": "python",
   "name": "python3"
  },
  "language_info": {
   "codemirror_mode": {
    "name": "ipython",
    "version": 3
   },
   "file_extension": ".py",
   "mimetype": "text/x-python",
   "name": "python",
   "nbconvert_exporter": "python",
   "pygments_lexer": "ipython3",
   "version": "3.10.9"
  }
 },
 "nbformat": 4,
 "nbformat_minor": 2
}
